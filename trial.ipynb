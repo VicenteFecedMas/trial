{
 "cells": [
  {
   "cell_type": "code",
   "execution_count": 40,
   "metadata": {},
   "outputs": [
    {
     "data": {
      "text/html": [
       "\n",
       "        <h2>Click the button below:</h2>\n",
       "        <button type=\"button\" onclick=\"youclicked()\">Click Me</button>\n",
       "        <script>  \n",
       "        function youclicked(){  \n",
       "          alert(\"You Clicked!\");  \n",
       "        }  \n",
       "        </script>\n",
       "        <canvas id=\"myChart\" style=\"width:100%;max-width:700px\"></canvas>\n",
       "        <script src=\"https://cdnjs.cloudflare.com/ajax/libs/Chart.js/2.9.4/Chart.js\"></script>\n",
       "        <script>\n",
       "          var xyValues = [{x:50, y:7}, {x:60, y:8}, {x:70, y:8}, {x:80, y:9}, {x:90, y:9}];\n",
       "\n",
       "          new Chart(\"myChart\", {\n",
       "            type: \"scatter\",\n",
       "            data: {\n",
       "              datasets: [{\n",
       "                pointRadius: 4,\n",
       "                pointBackgroundColor: \"rgb(0,0,255)\",\n",
       "                data: xyValues\n",
       "              }]\n",
       "            },\n",
       "            options: {\n",
       "              legend: {display: false},\n",
       "              scales: {\n",
       "                xAxes: [{ticks: {min: 40, max:100}}],\n",
       "                yAxes: [{ticks: {min: 6, max:10}}],\n",
       "              }\n",
       "            }\n",
       "          });\n",
       "        </script>\n",
       "        "
      ],
      "text/plain": [
       "<__main__.ClassTwo at 0x16a2d9070>"
      ]
     },
     "execution_count": 40,
     "metadata": {},
     "output_type": "execute_result"
    }
   ],
   "source": [
    "class ClassTwo:\n",
    "    def _repr_html_(self):\n",
    "        ret = \"\"\"\n",
    "        <h2>Click the button below:</h2>\n",
    "        <button type=\"button\" onclick=\"youclicked()\">Click Me</button>\n",
    "        <script>  \n",
    "        function youclicked(){  \n",
    "          alert(\"You Clicked!\");  \n",
    "        }  \n",
    "        </script>\n",
    "        <canvas id=\"myChart\" style=\"width:100%;max-width:700px\"></canvas>\n",
    "        <script src=\"https://cdnjs.cloudflare.com/ajax/libs/Chart.js/2.9.4/Chart.js\"></script>\n",
    "        <script>\n",
    "          var xyValues = [{x:50, y:7}, {x:60, y:8}, {x:70, y:8}, {x:80, y:9}, {x:90, y:9}];\n",
    "\n",
    "          new Chart(\"myChart\", {\n",
    "            type: \"scatter\",\n",
    "            data: {\n",
    "              datasets: [{\n",
    "                pointRadius: 4,\n",
    "                pointBackgroundColor: \"rgb(0,0,255)\",\n",
    "                data: xyValues\n",
    "              }]\n",
    "            },\n",
    "            options: {\n",
    "              legend: {display: false},\n",
    "              scales: {\n",
    "                xAxes: [{ticks: {min: 40, max:100}}],\n",
    "                yAxes: [{ticks: {min: 6, max:10}}],\n",
    "              }\n",
    "            }\n",
    "          });\n",
    "        </script>\n",
    "        \"\"\"\n",
    "        return ret\n",
    "\n",
    "# Create an instance to display\n",
    "ClassTwo()\n"
   ]
  },
  {
   "cell_type": "code",
   "execution_count": null,
   "metadata": {},
   "outputs": [],
   "source": []
  }
 ],
 "metadata": {
  "language_info": {
   "name": "python"
  }
 },
 "nbformat": 4,
 "nbformat_minor": 2
}
